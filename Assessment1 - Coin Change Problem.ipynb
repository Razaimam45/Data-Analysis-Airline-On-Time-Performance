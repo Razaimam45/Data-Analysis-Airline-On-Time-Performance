{
 "cells": [
  {
   "attachments": {},
   "cell_type": "markdown",
   "metadata": {},
   "source": [
    "# Problem 1"
   ]
  },
  {
   "cell_type": "code",
   "execution_count": 28,
   "metadata": {},
   "outputs": [
    {
     "name": "stdout",
     "output_type": "stream",
     "text": [
      "minimum_coins: -1\n",
      "coins_list: -1\n"
     ]
    }
   ],
   "source": [
    "def calculate_minimum_coins(denoms, amt):\n",
    "    denoms.sort(reverse=True)\n",
    "    count = 0\n",
    "    coins_list = [] \n",
    "\n",
    "    for coin in denoms:\n",
    "        while amt >= coin:\n",
    "            amt -= coin\n",
    "            count += 1\n",
    "            coins_list.append(coin)\n",
    "\n",
    "    if amt > 0:\n",
    "        return -1, -1\n",
    "    \n",
    "    return count, coins_list\n",
    "\n",
    "# __main__\n",
    "# denoms = [0.25, 0.50, 1]\n",
    "# amt = 2.25\n",
    "\n",
    "denoms = [0.50]\n",
    "amt = 0.75\n",
    "\n",
    "\n",
    "minimum_coins, coins_list = calculate_minimum_coins(denoms, amt)\n",
    "print(\"minimum_coins:\", minimum_coins)\n",
    "print(\"coins_list:\", coins_list)"
   ]
  },
  {
   "attachments": {},
   "cell_type": "markdown",
   "metadata": {},
   "source": [
    "# Problem 2"
   ]
  },
  {
   "cell_type": "code",
   "execution_count": 26,
   "metadata": {},
   "outputs": [
    {
     "name": "stdout",
     "output_type": "stream",
     "text": [
      "[(0.25, 10), (0.5, 5), (1, 2)]\n",
      "minimum_coins: 3\n",
      "coins_list: [1, 1, 0.25]\n"
     ]
    }
   ],
   "source": [
    "def calculate_minimum_coins(denoms, available, amt):\n",
    "    denoms_available = list(zip(denoms, available))  # Pair denominations with available counts\n",
    "    print(denoms_available)\n",
    "    denoms_available.sort(reverse=True, key=lambda x: x[0])  # Sort by denominations in descending order\n",
    "    count = 0\n",
    "    coins_list = []\n",
    "\n",
    "    for denom, count_available in denoms_available:\n",
    "        while amt >= denom and count_available > 0:\n",
    "            amt -= denom\n",
    "            count_available -= 1\n",
    "            count += 1\n",
    "            coins_list.append(denom)\n",
    "\n",
    "    if amt > 0:\n",
    "        return -1, -1\n",
    "\n",
    "    return count, coins_list\n",
    "\n",
    "\n",
    "# __main__\n",
    "denoms = [0.25, 0.50, 1]\n",
    "available = [10, 5, 2]\n",
    "amt = 2.25\n",
    "\n",
    "# denoms = [0.25, 0.50, 1]\n",
    "# available = [20, 3, 1]\n",
    "# amt = 2.75\n",
    "\n",
    "minimum_coins, coins_list = calculate_minimum_coins(denoms, available, amt)\n",
    "print(\"minimum_coins:\", minimum_coins)\n",
    "print(\"coins_list:\", coins_list)"
   ]
  }
 ],
 "metadata": {
  "kernelspec": {
   "display_name": "base",
   "language": "python",
   "name": "python3"
  },
  "language_info": {
   "codemirror_mode": {
    "name": "ipython",
    "version": 3
   },
   "file_extension": ".py",
   "mimetype": "text/x-python",
   "name": "python",
   "nbconvert_exporter": "python",
   "pygments_lexer": "ipython3",
   "version": "3.8.8"
  },
  "orig_nbformat": 4
 },
 "nbformat": 4,
 "nbformat_minor": 2
}
